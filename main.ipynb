{
 "cells": [
  {
   "cell_type": "code",
   "execution_count": null,
   "metadata": {},
   "outputs": [],
   "source": [
    "import os\n",
    "import torch\n",
    "import yaml\n",
    "from easydict import EasyDict as edict\n",
    "from datetime import datetime\n",
    "\n",
    "import ctools\n",
    "from data.multi_view_data_injector import MultiViewDataInjector\n",
    "from data.transforms import get_simclr_data_transforms\n",
    "from models.mlp_head import MLPHead\n",
    "from models.base_network import EfficientNet, ResNet\n",
    "from trainer import BYOLTrainer\n",
    "from data.reader import loader\n",
    "\n",
    "# print(torch.__version__)\n",
    "torch.manual_seed(0)"
   ]
  },
  {
   "cell_type": "code",
   "execution_count": null,
   "metadata": {},
   "outputs": [],
   "source": [
    "# Load configuration file\n",
    "config = edict(yaml.load(open(\"./config/config.yaml\", \"r\"), Loader=yaml.FullLoader))\n",
    "\n",
    "data = config.data\n",
    "save = config.save\n",
    "batch_size = config.trainer.batch_size"
   ]
  },
  {
   "cell_type": "code",
   "execution_count": null,
   "metadata": {},
   "outputs": [],
   "source": [
    "# Set device for computation\n",
    "device = 'cuda' if torch.cuda.is_available() else 'cpu'\n",
    "print(f\"Training with: {device}\")\n",
    "\n",
    "# Get data transformations and inject them for multi-view data\n",
    "data_transform = get_simclr_data_transforms(**config['data_transforms'])\n",
    "transform = MultiViewDataInjector([data_transform, data_transform])"
   ]
  },
  {
   "cell_type": "code",
   "execution_count": null,
   "metadata": {},
   "outputs": [],
   "source": [
    "# Load the dataset based on configuration\n",
    "if data.isFolder:\n",
    "    data, _ = ctools.readfolder(data)\n",
    "\n",
    "train_loader = loader(data, batch_size, transform, shuffle=True, num_workers=2)"
   ]
  },
  {
   "cell_type": "code",
   "execution_count": null,
   "metadata": {},
   "outputs": [],
   "source": [
    "# Initialize the online network based on the model defined in config\n",
    "if \"resnet\" in config['network']['name']:\n",
    "    online_network = ResNet(**config['network']).to(device)\n",
    "elif \"efficientnet\" in config['network']['name']:\n",
    "    online_network = EfficientNet(**config['network']).to(device)\n",
    "else:\n",
    "    raise ValueError(f\"Model {config['network']['name']} not available.\")"
   ]
  },
  {
   "cell_type": "code",
   "execution_count": null,
   "metadata": {},
   "outputs": [],
   "source": [
    "# Load pre-trained model if a path is provided in the config\n",
    "pretrained_path = config['network']['pretrain']\n",
    "\n",
    "if pretrained_path:\n",
    "    try:\n",
    "        load_params = torch.load(pretrained_path, map_location=torch.device(torch.device(device)))\n",
    "        online_network.load_state_dict(load_params['online_network_state_dict'])\n",
    "    except FileNotFoundError:\n",
    "        print(\"Pre-trained weights not found. Training from scratch.\")"
   ]
  },
  {
   "cell_type": "code",
   "execution_count": null,
   "metadata": {},
   "outputs": [],
   "source": [
    "# Initialize the predictor network\n",
    "predictor = MLPHead(in_channels=online_network.projection.net[-1].out_features,\n",
    "                    **config['network']['projection_head']).to(device)"
   ]
  },
  {
   "cell_type": "code",
   "execution_count": null,
   "metadata": {},
   "outputs": [],
   "source": [
    "# Initialize the target network, which mirrors the online network\n",
    "if \"resnet\" in config['network']['name']:\n",
    "    target_network = ResNet(**config['network']).to(device)\n",
    "elif \"efficientnet\" in config['network']['name']:\n",
    "    target_network = EfficientNet(**config['network']).to(device)\n",
    "else:\n",
    "    raise ValueError(f\"Model {config['network']['name']} not available.\")"
   ]
  },
  {
   "cell_type": "code",
   "execution_count": null,
   "metadata": {},
   "outputs": [],
   "source": [
    "# Initialize the optimizer\n",
    "optimizer = torch.optim.SGD(list(online_network.parameters()) + list(predictor.parameters()),\n",
    "                            **config['optimizer']['params'])"
   ]
  },
  {
   "cell_type": "code",
   "execution_count": null,
   "metadata": {},
   "outputs": [],
   "source": [
    "# Set up logging directory for saving model checkpoints and logs\n",
    "log_dir = os.path.join(save.metapath, data.name, config['network']['name'])\n",
    "log_dir = os.path.join(log_dir, datetime.now().strftime(\"%Y%m%d-%H%M%S\"))\n",
    "\n",
    "if not os.path.exists(log_dir):\n",
    "    os.makedirs(log_dir)"
   ]
  },
  {
   "cell_type": "code",
   "execution_count": null,
   "metadata": {},
   "outputs": [],
   "source": [
    "# Initialize the BYOL trainer with the online and target networks, predictor, and optimizer\n",
    "trainer = BYOLTrainer(online_network=online_network,\n",
    "                      target_network=target_network,\n",
    "                      optimizer=optimizer,\n",
    "                      predictor=predictor,\n",
    "                      device=device,\n",
    "                      log_dir=log_dir,\n",
    "                      **config['trainer'])\n",
    "\n",
    "# Start training\n",
    "trainer.train(train_loader)"
   ]
  }
 ],
 "metadata": {
  "kernelspec": {
   "display_name": "gazeclr",
   "language": "python",
   "name": "python3"
  },
  "language_info": {
   "name": "python",
   "version": "3.11.9"
  }
 },
 "nbformat": 4,
 "nbformat_minor": 2
}
